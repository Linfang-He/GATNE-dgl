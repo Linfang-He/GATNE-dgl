{
 "cells": [
  {
   "cell_type": "code",
   "execution_count": 9,
   "metadata": {},
   "outputs": [],
   "source": [
    "import numpy as np"
   ]
  },
  {
   "cell_type": "markdown",
   "metadata": {},
   "source": [
    "* Ground_truth : NxM sparse matrix, where N is the number of users and M is the number of items\n",
    "* Prediction : an Nxk array of item IDs, ranked by decreasing relevance."
   ]
  },
  {
   "cell_type": "markdown",
   "metadata": {},
   "source": [
    "DCG and nDCG for a specific query"
   ]
  },
  {
   "cell_type": "code",
   "execution_count": 65,
   "metadata": {},
   "outputs": [],
   "source": [
    "def dcg_at_k(r, k, method=0):\n",
    "    r = np.asfarray(r)[:k]  # turn to float\n",
    "    if r.size:\n",
    "        if method == 0:\n",
    "            return r[0] + np.sum(r[1:] / np.log2(np.arange(2, r.size + 1)))\n",
    "        elif method == 1:\n",
    "            return np.sum(r / np.log2(np.arange(2, r.size + 2)))\n",
    "        else:\n",
    "            raise ValueError('method must be 0 or 1.')\n",
    "    return 0.\n",
    "\n",
    "def ndcg_at_k(r, k, method=0):\n",
    "    dcg_max = dcg_at_k(sorted(r, reverse=True), k, method)\n",
    "    if not dcg_max:\n",
    "        return 0.\n",
    "    return dcg_at_k(r, k, method) / dcg_max"
   ]
  },
  {
   "cell_type": "markdown",
   "metadata": {},
   "source": [
    "I thought the list 'r' already represents the ground truth (relevance) and the prediction (ranking). Assume the shape matrix analyzed is Nxk, where each element means relevance score."
   ]
  },
  {
   "cell_type": "code",
   "execution_count": 97,
   "metadata": {},
   "outputs": [],
   "source": [
    "def batch_dcg_at_k(R, k, method=0):\n",
    "    R = np.asfarray(R)[:,:k]\n",
    "    N = R.size\n",
    "    if N and R[0].size:\n",
    "        if method == 0:\n",
    "            return R[:,0] + np.sum(R[:,1:] / np.log2(np.arange(2, R[0].size + 1)), axis=1)\n",
    "        elif method == 1:\n",
    "            return np.sum(R / np.log2(np.arange(2, R[0].size + 2)), axis=1)\n",
    "        else:\n",
    "            raise ValueError('method must be 0 or 1')\n",
    "    return np.zeros(N)"
   ]
  },
  {
   "cell_type": "code",
   "execution_count": 98,
   "metadata": {
    "scrolled": true
   },
   "outputs": [
    {
     "name": "stdout",
     "output_type": "stream",
     "text": [
      "[8.3187531 8.3187531 8.3187531]\n",
      "8.318753101481006\n"
     ]
    }
   ],
   "source": [
    "R = [[3, 2, 3, 0, 0, 1, 2, 2, 3, 0],[3, 2, 3, 0, 0, 1, 2, 2, 3, 0],[3, 2, 3, 0, 0, 1, 2, 2, 3, 0]]\n",
    "R = np.array(R)\n",
    "a = batch_dcg_at_k(R, 10, method=1)\n",
    "r = [3, 2, 3, 0, 0, 1, 2, 2, 3, 0]\n",
    "b = dcg_at_k(r, 10, method=1)\n",
    "print(a)\n",
    "print(b)"
   ]
  },
  {
   "cell_type": "code",
   "execution_count": 141,
   "metadata": {},
   "outputs": [],
   "source": [
    "def batch_ndcg_at_k(R, k, method=0):\n",
    "    batch_dcg_max = batch_dcg_at_k(np.take_along_axis(R, np.argsort(-R, axis=1), axis=1), k, method)\n",
    "    batch_dcg_max = np.where(batch_dcg_max == 0., 1e-5, batch_dcg_max)\n",
    "    return np.where(batch_dcg_max == 0., 0., batch_dcg_at_k(R, k, method) / batch_dcg_max)"
   ]
  },
  {
   "cell_type": "code",
   "execution_count": 142,
   "metadata": {},
   "outputs": [
    {
     "name": "stdout",
     "output_type": "stream",
     "text": [
      "[0.91680888 0.91680888 0.        ]\n",
      "0.9168088790321769\n"
     ]
    }
   ],
   "source": [
    "R = [[3, 2, 3, 0, 0, 1, 2, 2, 3, 0],[3, 2, 3, 0, 0, 1, 2, 2, 3, 0],[0, 0, 0, 0, 0, 0, 0, 0, 0, 0]]\n",
    "R = np.array(R)\n",
    "a = batch_ndcg_at_k(R, 10, method=1)\n",
    "r = [3, 2, 3, 0, 0, 1, 2, 2, 3, 0]\n",
    "b = ndcg_at_k(r, 10, method=1)\n",
    "print(a)\n",
    "print(b)"
   ]
  }
 ],
 "metadata": {
  "kernelspec": {
   "display_name": "Python 3",
   "language": "python",
   "name": "python3"
  },
  "language_info": {
   "codemirror_mode": {
    "name": "ipython",
    "version": 3
   },
   "file_extension": ".py",
   "mimetype": "text/x-python",
   "name": "python",
   "nbconvert_exporter": "python",
   "pygments_lexer": "ipython3",
   "version": "3.7.4"
  }
 },
 "nbformat": 4,
 "nbformat_minor": 2
}
